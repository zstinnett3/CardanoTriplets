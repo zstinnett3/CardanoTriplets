{
 "cells": [
  {
   "cell_type": "markdown",
   "metadata": {},
   "source": [
    "The following code can be used for calculating Cardano Triplets for Project Euler #251 . Click [here](https://www.hackerrank.com/contests/projecteuler/challenges/euler251/problem) to see the problem on HackerRank. The following code works very well, but is limited due to numba not being available in HackerRank. "
   ]
  },
  {
   "cell_type": "code",
   "execution_count": 1,
   "metadata": {},
   "outputs": [],
   "source": [
    "from itertools import permutations \n",
    "import math\n",
    "import numpy as np\n",
    "from collections import deque\n",
    "from numba import njit"
   ]
  },
  {
   "cell_type": "code",
   "execution_count": 2,
   "metadata": {},
   "outputs": [],
   "source": [
    "@njit\n",
    "def b_c_Generator(n, b2_c ):\n",
    "    for b in range(1, n):\n",
    "        for c in np.arange(1, n):\n",
    "            if c * b**2 == b2_c:\n",
    "                yield (b,c)"
   ]
  },
  {
   "cell_type": "code",
   "execution_count": 3,
   "metadata": {},
   "outputs": [],
   "source": [
    "def CardanoTriplets(n):\n",
    "    counter = 0\n",
    "    counts = deque()\n",
    "    for k in range(n):\n",
    "        a = 3*k + 2 \n",
    "        b2_c = (8*k+5)*(k+1)**2\n",
    "        \n",
    "        if (a <= n) and (8*a**3 + 15*a**2 + 6*a -27*b2_c == 1):\n",
    "            bc = list((b_c_Generator(n, b2_c )))\n",
    "                      \n",
    "            \n",
    "            try:\n",
    "                \n",
    "                if len(bc) > 0:\n",
    "                    for b, c in bc:\n",
    "                        if a + b + c <= n:\n",
    "                            \n",
    "                            counter += 1\n",
    "                    \n",
    "                    \n",
    "            except:\n",
    "                pass\n",
    "        \n",
    "        \n",
    "    return counter\n",
    "\n",
    "    "
   ]
  },
  {
   "cell_type": "code",
   "execution_count": 4,
   "metadata": {},
   "outputs": [
    {
     "name": "stdout",
     "output_type": "stream",
     "text": [
      "263 ms ± 1.4 ms per loop (mean ± std. dev. of 7 runs, 1 loop each)\n"
     ]
    }
   ],
   "source": [
    "%%timeit\n",
    "CardanoTriplets(1000)"
   ]
  },
  {
   "cell_type": "code",
   "execution_count": null,
   "metadata": {},
   "outputs": [],
   "source": []
  },
  {
   "cell_type": "code",
   "execution_count": null,
   "metadata": {},
   "outputs": [],
   "source": []
  },
  {
   "cell_type": "code",
   "execution_count": null,
   "metadata": {},
   "outputs": [],
   "source": []
  },
  {
   "cell_type": "code",
   "execution_count": null,
   "metadata": {},
   "outputs": [],
   "source": []
  },
  {
   "cell_type": "code",
   "execution_count": null,
   "metadata": {},
   "outputs": [],
   "source": []
  },
  {
   "cell_type": "code",
   "execution_count": null,
   "metadata": {},
   "outputs": [],
   "source": []
  }
 ],
 "metadata": {
  "kernelspec": {
   "display_name": "Python 3",
   "language": "python",
   "name": "python3"
  },
  "language_info": {
   "codemirror_mode": {
    "name": "ipython",
    "version": 3
   },
   "file_extension": ".py",
   "mimetype": "text/x-python",
   "name": "python",
   "nbconvert_exporter": "python",
   "pygments_lexer": "ipython3",
   "version": "3.6.9"
  }
 },
 "nbformat": 4,
 "nbformat_minor": 2
}
